{
 "cells": [
  {
   "cell_type": "code",
   "execution_count": 2,
   "metadata": {},
   "outputs": [],
   "source": [
    "import numpy as np\n",
    "import matplotlib.pylab as plt\n",
    "import pandas as pd\n",
    "%matplotlib inline"
   ]
  },
  {
   "cell_type": "code",
   "execution_count": 3,
   "metadata": {},
   "outputs": [],
   "source": [
    "\n",
    "dataset=pd.read_csv('results.csv')\n",
    "dataset.replace(0, np.nan, inplace= True)\n",
    "dataset.replace(np.nan, np.round(dataset.mean(), decimals=1), inplace= True)\n",
    "X=dataset.iloc[:,1:-4].values\n",
    "\n",
    "y=dataset.iloc[:,4:7].values"
   ]
  },
  {
   "cell_type": "code",
   "execution_count": 4,
   "metadata": {},
   "outputs": [
    {
     "data": {
      "text/html": [
       "<div>\n",
       "<style scoped>\n",
       "    .dataframe tbody tr th:only-of-type {\n",
       "        vertical-align: middle;\n",
       "    }\n",
       "\n",
       "    .dataframe tbody tr th {\n",
       "        vertical-align: top;\n",
       "    }\n",
       "\n",
       "    .dataframe thead th {\n",
       "        text-align: right;\n",
       "    }\n",
       "</style>\n",
       "<table border=\"1\" class=\"dataframe\">\n",
       "  <thead>\n",
       "    <tr style=\"text-align: right;\">\n",
       "      <th></th>\n",
       "      <th>DesignId</th>\n",
       "      <th>PRL</th>\n",
       "      <th>PRW</th>\n",
       "      <th>Stretch</th>\n",
       "      <th>FRJ</th>\n",
       "      <th>FRP</th>\n",
       "      <th>FRL</th>\n",
       "      <th>MC type</th>\n",
       "    </tr>\n",
       "  </thead>\n",
       "  <tbody>\n",
       "    <tr>\n",
       "      <th>0</th>\n",
       "      <td>D00002</td>\n",
       "      <td>55.0</td>\n",
       "      <td>120.0</td>\n",
       "      <td>0.6</td>\n",
       "      <td>1065</td>\n",
       "      <td>400.0</td>\n",
       "      <td>160.0</td>\n",
       "      <td>JQ</td>\n",
       "    </tr>\n",
       "    <tr>\n",
       "      <th>1</th>\n",
       "      <td>D00002</td>\n",
       "      <td>63.0</td>\n",
       "      <td>115.0</td>\n",
       "      <td>0.6</td>\n",
       "      <td>1125</td>\n",
       "      <td>330.0</td>\n",
       "      <td>160.0</td>\n",
       "      <td>JQ</td>\n",
       "    </tr>\n",
       "    <tr>\n",
       "      <th>2</th>\n",
       "      <td>D00002</td>\n",
       "      <td>51.0</td>\n",
       "      <td>125.0</td>\n",
       "      <td>0.6</td>\n",
       "      <td>1000</td>\n",
       "      <td>420.0</td>\n",
       "      <td>160.0</td>\n",
       "      <td>JQ</td>\n",
       "    </tr>\n",
       "    <tr>\n",
       "      <th>3</th>\n",
       "      <td>D00002</td>\n",
       "      <td>50.0</td>\n",
       "      <td>120.0</td>\n",
       "      <td>0.6</td>\n",
       "      <td>1080</td>\n",
       "      <td>400.0</td>\n",
       "      <td>160.0</td>\n",
       "      <td>JQ</td>\n",
       "    </tr>\n",
       "    <tr>\n",
       "      <th>4</th>\n",
       "      <td>D00002</td>\n",
       "      <td>55.0</td>\n",
       "      <td>120.0</td>\n",
       "      <td>0.6</td>\n",
       "      <td>1020</td>\n",
       "      <td>435.0</td>\n",
       "      <td>160.0</td>\n",
       "      <td>JQ</td>\n",
       "    </tr>\n",
       "  </tbody>\n",
       "</table>\n",
       "</div>"
      ],
      "text/plain": [
       "  DesignId   PRL    PRW  Stretch   FRJ    FRP    FRL MC type\n",
       "0   D00002  55.0  120.0      0.6  1065  400.0  160.0      JQ\n",
       "1   D00002  63.0  115.0      0.6  1125  330.0  160.0      JQ\n",
       "2   D00002  51.0  125.0      0.6  1000  420.0  160.0      JQ\n",
       "3   D00002  50.0  120.0      0.6  1080  400.0  160.0      JQ\n",
       "4   D00002  55.0  120.0      0.6  1020  435.0  160.0      JQ"
      ]
     },
     "execution_count": 4,
     "metadata": {},
     "output_type": "execute_result"
    }
   ],
   "source": [
    "dataset.head()"
   ]
  },
  {
   "cell_type": "code",
   "execution_count": 5,
   "metadata": {},
   "outputs": [
    {
     "name": "stderr",
     "output_type": "stream",
     "text": [
      "/home/ragulan/anaconda3/lib/python3.6/site-packages/sklearn/cross_validation.py:41: DeprecationWarning: This module was deprecated in version 0.18 in favor of the model_selection module into which all the refactored classes and functions are moved. Also note that the interface of the new CV iterators are different from that of this module. This module will be removed in 0.20.\n",
      "  \"This module will be removed in 0.20.\", DeprecationWarning)\n"
     ]
    }
   ],
   "source": [
    "from sklearn.cross_validation import train_test_split\n",
    "X_train,X_test,y_train,y_test=train_test_split(X,y,test_size=0.3,random_state=0)\n",
    "# X_train,X_test,y_FRP_train,y_FRP_test=train_test_split(X,y_FRP,test_size=0.2,random_state=0)\n",
    "# X_train,X_test,y_FRL_train,y_FRL_test=train_test_split(X,y_FRL,test_size=0.2,random_state=0)"
   ]
  },
  {
   "cell_type": "code",
   "execution_count": null,
   "metadata": {},
   "outputs": [],
   "source": []
  },
  {
   "cell_type": "code",
   "execution_count": 6,
   "metadata": {},
   "outputs": [
    {
     "data": {
      "text/plain": [
       "LinearRegression(copy_X=True, fit_intercept=True, n_jobs=1, normalize=False)"
      ]
     },
     "execution_count": 6,
     "metadata": {},
     "output_type": "execute_result"
    }
   ],
   "source": [
    "from sklearn.linear_model import LinearRegression \n",
    "regressor =LinearRegression()\n",
    "regressor.fit(X_train,y_train)"
   ]
  },
  {
   "cell_type": "code",
   "execution_count": 7,
   "metadata": {},
   "outputs": [],
   "source": [
    "y_pred=regressor.predict(X_test)"
   ]
  },
  {
   "cell_type": "code",
   "execution_count": 13,
   "metadata": {},
   "outputs": [
    {
     "name": "stdout",
     "output_type": "stream",
     "text": [
      "Enter the PRL value :100\n"
     ]
    }
   ],
   "source": [
    "\n",
    "new_PRL = float(input('Enter the PRL value :'))\n"
   ]
  },
  {
   "cell_type": "code",
   "execution_count": 14,
   "metadata": {},
   "outputs": [
    {
     "name": "stdout",
     "output_type": "stream",
     "text": [
      "Enter the PRW value :25\n"
     ]
    }
   ],
   "source": [
    "new_PRW =float(input('Enter the PRW value :'))"
   ]
  },
  {
   "cell_type": "code",
   "execution_count": 15,
   "metadata": {},
   "outputs": [
    {
     "name": "stdout",
     "output_type": "stream",
     "text": [
      "Enter the stretch value :22\n"
     ]
    }
   ],
   "source": [
    "new_stretch=float(input('Enter the stretch value :'))\n"
   ]
  },
  {
   "cell_type": "code",
   "execution_count": 34,
   "metadata": {},
   "outputs": [
    {
     "name": "stdout",
     "output_type": "stream",
     "text": [
      "predict values FRJ 3171.183318692254 \n",
      "\n",
      "predict values FRP 402.6538843637282 \n",
      "\n",
      "predict values FRL -281.3640132289162 \n",
      "\n"
     ]
    }
   ],
   "source": [
    "predict_values=regressor.predict([[new_PRL ,new_PRW,new_stretch]])\n",
    "print('predict values FRJ',predict_values[0][0],'\\n')\n",
    "print('predict values FRP',predict_values[0][1],'\\n')\n",
    "print('predict values FRL',predict_values[0][2],'\\n')"
   ]
  },
  {
   "cell_type": "code",
   "execution_count": null,
   "metadata": {},
   "outputs": [],
   "source": []
  }
 ],
 "metadata": {
  "kernelspec": {
   "display_name": "Python 3",
   "language": "python",
   "name": "python3"
  }
 },
 "nbformat": 4,
 "nbformat_minor": 2
}
